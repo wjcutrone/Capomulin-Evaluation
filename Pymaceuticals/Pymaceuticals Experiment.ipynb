{
 "cells": [
  {
   "cell_type": "code",
   "execution_count": 1,
   "metadata": {},
   "outputs": [
    {
     "data": {
      "text/html": [
       "<div>\n",
       "<style scoped>\n",
       "    .dataframe tbody tr th:only-of-type {\n",
       "        vertical-align: middle;\n",
       "    }\n",
       "\n",
       "    .dataframe tbody tr th {\n",
       "        vertical-align: top;\n",
       "    }\n",
       "\n",
       "    .dataframe thead th {\n",
       "        text-align: right;\n",
       "    }\n",
       "</style>\n",
       "<table border=\"1\" class=\"dataframe\">\n",
       "  <thead>\n",
       "    <tr style=\"text-align: right;\">\n",
       "      <th></th>\n",
       "      <th>Mouse ID</th>\n",
       "      <th>Drug Regimen</th>\n",
       "      <th>Sex</th>\n",
       "      <th>Age_months</th>\n",
       "      <th>Weight (g)</th>\n",
       "      <th>Timepoint</th>\n",
       "      <th>Tumor Volume (mm3)</th>\n",
       "      <th>Metastatic Sites</th>\n",
       "    </tr>\n",
       "  </thead>\n",
       "  <tbody>\n",
       "    <tr>\n",
       "      <th>0</th>\n",
       "      <td>k403</td>\n",
       "      <td>Ramicane</td>\n",
       "      <td>Male</td>\n",
       "      <td>21</td>\n",
       "      <td>16</td>\n",
       "      <td>0</td>\n",
       "      <td>45.000000</td>\n",
       "      <td>0</td>\n",
       "    </tr>\n",
       "    <tr>\n",
       "      <th>1</th>\n",
       "      <td>k403</td>\n",
       "      <td>Ramicane</td>\n",
       "      <td>Male</td>\n",
       "      <td>21</td>\n",
       "      <td>16</td>\n",
       "      <td>5</td>\n",
       "      <td>38.825898</td>\n",
       "      <td>0</td>\n",
       "    </tr>\n",
       "    <tr>\n",
       "      <th>2</th>\n",
       "      <td>k403</td>\n",
       "      <td>Ramicane</td>\n",
       "      <td>Male</td>\n",
       "      <td>21</td>\n",
       "      <td>16</td>\n",
       "      <td>10</td>\n",
       "      <td>35.014271</td>\n",
       "      <td>1</td>\n",
       "    </tr>\n",
       "    <tr>\n",
       "      <th>3</th>\n",
       "      <td>k403</td>\n",
       "      <td>Ramicane</td>\n",
       "      <td>Male</td>\n",
       "      <td>21</td>\n",
       "      <td>16</td>\n",
       "      <td>15</td>\n",
       "      <td>34.223992</td>\n",
       "      <td>1</td>\n",
       "    </tr>\n",
       "    <tr>\n",
       "      <th>4</th>\n",
       "      <td>k403</td>\n",
       "      <td>Ramicane</td>\n",
       "      <td>Male</td>\n",
       "      <td>21</td>\n",
       "      <td>16</td>\n",
       "      <td>20</td>\n",
       "      <td>32.997729</td>\n",
       "      <td>1</td>\n",
       "    </tr>\n",
       "    <tr>\n",
       "      <th>...</th>\n",
       "      <td>...</td>\n",
       "      <td>...</td>\n",
       "      <td>...</td>\n",
       "      <td>...</td>\n",
       "      <td>...</td>\n",
       "      <td>...</td>\n",
       "      <td>...</td>\n",
       "      <td>...</td>\n",
       "    </tr>\n",
       "    <tr>\n",
       "      <th>1888</th>\n",
       "      <td>z969</td>\n",
       "      <td>Naftisol</td>\n",
       "      <td>Male</td>\n",
       "      <td>9</td>\n",
       "      <td>30</td>\n",
       "      <td>25</td>\n",
       "      <td>63.145652</td>\n",
       "      <td>2</td>\n",
       "    </tr>\n",
       "    <tr>\n",
       "      <th>1889</th>\n",
       "      <td>z969</td>\n",
       "      <td>Naftisol</td>\n",
       "      <td>Male</td>\n",
       "      <td>9</td>\n",
       "      <td>30</td>\n",
       "      <td>30</td>\n",
       "      <td>65.841013</td>\n",
       "      <td>3</td>\n",
       "    </tr>\n",
       "    <tr>\n",
       "      <th>1890</th>\n",
       "      <td>z969</td>\n",
       "      <td>Naftisol</td>\n",
       "      <td>Male</td>\n",
       "      <td>9</td>\n",
       "      <td>30</td>\n",
       "      <td>35</td>\n",
       "      <td>69.176246</td>\n",
       "      <td>4</td>\n",
       "    </tr>\n",
       "    <tr>\n",
       "      <th>1891</th>\n",
       "      <td>z969</td>\n",
       "      <td>Naftisol</td>\n",
       "      <td>Male</td>\n",
       "      <td>9</td>\n",
       "      <td>30</td>\n",
       "      <td>40</td>\n",
       "      <td>70.314904</td>\n",
       "      <td>4</td>\n",
       "    </tr>\n",
       "    <tr>\n",
       "      <th>1892</th>\n",
       "      <td>z969</td>\n",
       "      <td>Naftisol</td>\n",
       "      <td>Male</td>\n",
       "      <td>9</td>\n",
       "      <td>30</td>\n",
       "      <td>45</td>\n",
       "      <td>73.867845</td>\n",
       "      <td>4</td>\n",
       "    </tr>\n",
       "  </tbody>\n",
       "</table>\n",
       "<p>1893 rows × 8 columns</p>\n",
       "</div>"
      ],
      "text/plain": [
       "     Mouse ID Drug Regimen   Sex  Age_months  Weight (g)  Timepoint  \\\n",
       "0        k403     Ramicane  Male          21          16          0   \n",
       "1        k403     Ramicane  Male          21          16          5   \n",
       "2        k403     Ramicane  Male          21          16         10   \n",
       "3        k403     Ramicane  Male          21          16         15   \n",
       "4        k403     Ramicane  Male          21          16         20   \n",
       "...       ...          ...   ...         ...         ...        ...   \n",
       "1888     z969     Naftisol  Male           9          30         25   \n",
       "1889     z969     Naftisol  Male           9          30         30   \n",
       "1890     z969     Naftisol  Male           9          30         35   \n",
       "1891     z969     Naftisol  Male           9          30         40   \n",
       "1892     z969     Naftisol  Male           9          30         45   \n",
       "\n",
       "      Tumor Volume (mm3)  Metastatic Sites  \n",
       "0              45.000000                 0  \n",
       "1              38.825898                 0  \n",
       "2              35.014271                 1  \n",
       "3              34.223992                 1  \n",
       "4              32.997729                 1  \n",
       "...                  ...               ...  \n",
       "1888           63.145652                 2  \n",
       "1889           65.841013                 3  \n",
       "1890           69.176246                 4  \n",
       "1891           70.314904                 4  \n",
       "1892           73.867845                 4  \n",
       "\n",
       "[1893 rows x 8 columns]"
      ]
     },
     "execution_count": 1,
     "metadata": {},
     "output_type": "execute_result"
    }
   ],
   "source": [
    "# Dependencies and Setup\n",
    "import matplotlib.pyplot as plt\n",
    "import pandas as pd\n",
    "import scipy.stats as st\n",
    "from IPython.display import display_markdown\n",
    "from scipy.stats import linregress\n",
    "import random\n",
    "\n",
    "# Study data files\n",
    "mouse_metadata_path = \"data/Mouse_metadata.csv\"\n",
    "study_results_path = \"data/Study_results.csv\"\n",
    "\n",
    "# Read the mouse data and the study results\n",
    "mouse_metadata = pd.read_csv(mouse_metadata_path)\n",
    "study_results = pd.read_csv(study_results_path)\n",
    "\n",
    "# Combine the data into a single dataset\n",
    "mouse_data_complete=pd.merge(mouse_metadata, study_results, on=\"Mouse ID\")\n",
    "\n",
    "# Display the data table for preview\n",
    "mouse_data_complete"
   ]
  },
  {
   "cell_type": "code",
   "execution_count": 2,
   "metadata": {},
   "outputs": [
    {
     "data": {
      "text/plain": [
       "249"
      ]
     },
     "execution_count": 2,
     "metadata": {},
     "output_type": "execute_result"
    }
   ],
   "source": [
    "# Checking the number of mice.\n",
    "len(mouse_data_complete[\"Mouse ID\"].unique())"
   ]
  },
  {
   "cell_type": "code",
   "execution_count": 3,
   "metadata": {},
   "outputs": [],
   "source": [
    "# Getting the duplicate mice by ID number that shows up for Mouse ID and Timepoint.\n",
    "# Create a clean DataFrame by dropping the duplicate mouse by its ID.\n",
    "mouse_data_cleaned=mouse_data_complete[mouse_data_complete.duplicated(subset=[\"Timepoint\"])]"
   ]
  },
  {
   "cell_type": "code",
   "execution_count": 4,
   "metadata": {},
   "outputs": [
    {
     "data": {
      "text/plain": [
       "248"
      ]
     },
     "execution_count": 4,
     "metadata": {},
     "output_type": "execute_result"
    }
   ],
   "source": [
    "# Checking the number of mice in the clean DataFrame.\n",
    "len(mouse_data_cleaned[\"Mouse ID\"].unique())"
   ]
  },
  {
   "cell_type": "code",
   "execution_count": 5,
   "metadata": {},
   "outputs": [
    {
     "data": {
      "text/markdown": [
       "## Pymaceuticals Data"
      ]
     },
     "metadata": {},
     "output_type": "display_data"
    },
    {
     "data": {
      "text/html": [
       "<div>\n",
       "<style scoped>\n",
       "    .dataframe tbody tr th:only-of-type {\n",
       "        vertical-align: middle;\n",
       "    }\n",
       "\n",
       "    .dataframe tbody tr th {\n",
       "        vertical-align: top;\n",
       "    }\n",
       "\n",
       "    .dataframe thead th {\n",
       "        text-align: right;\n",
       "    }\n",
       "</style>\n",
       "<table border=\"1\" class=\"dataframe\">\n",
       "  <thead>\n",
       "    <tr style=\"text-align: right;\">\n",
       "      <th></th>\n",
       "      <th>Mouse ID</th>\n",
       "      <th>Drug Regimen</th>\n",
       "      <th>Sex</th>\n",
       "      <th>Age_months</th>\n",
       "      <th>Weight (g)</th>\n",
       "      <th>Timepoint</th>\n",
       "      <th>Tumor Volume (mm3)</th>\n",
       "      <th>Metastatic Sites</th>\n",
       "    </tr>\n",
       "  </thead>\n",
       "  <tbody>\n",
       "    <tr>\n",
       "      <th>10</th>\n",
       "      <td>s185</td>\n",
       "      <td>Capomulin</td>\n",
       "      <td>Female</td>\n",
       "      <td>3</td>\n",
       "      <td>17</td>\n",
       "      <td>0</td>\n",
       "      <td>45.000000</td>\n",
       "      <td>0</td>\n",
       "    </tr>\n",
       "    <tr>\n",
       "      <th>11</th>\n",
       "      <td>s185</td>\n",
       "      <td>Capomulin</td>\n",
       "      <td>Female</td>\n",
       "      <td>3</td>\n",
       "      <td>17</td>\n",
       "      <td>5</td>\n",
       "      <td>43.878496</td>\n",
       "      <td>0</td>\n",
       "    </tr>\n",
       "    <tr>\n",
       "      <th>12</th>\n",
       "      <td>s185</td>\n",
       "      <td>Capomulin</td>\n",
       "      <td>Female</td>\n",
       "      <td>3</td>\n",
       "      <td>17</td>\n",
       "      <td>10</td>\n",
       "      <td>37.614948</td>\n",
       "      <td>0</td>\n",
       "    </tr>\n",
       "    <tr>\n",
       "      <th>13</th>\n",
       "      <td>s185</td>\n",
       "      <td>Capomulin</td>\n",
       "      <td>Female</td>\n",
       "      <td>3</td>\n",
       "      <td>17</td>\n",
       "      <td>15</td>\n",
       "      <td>38.177232</td>\n",
       "      <td>0</td>\n",
       "    </tr>\n",
       "    <tr>\n",
       "      <th>14</th>\n",
       "      <td>s185</td>\n",
       "      <td>Capomulin</td>\n",
       "      <td>Female</td>\n",
       "      <td>3</td>\n",
       "      <td>17</td>\n",
       "      <td>20</td>\n",
       "      <td>36.866876</td>\n",
       "      <td>0</td>\n",
       "    </tr>\n",
       "    <tr>\n",
       "      <th>...</th>\n",
       "      <td>...</td>\n",
       "      <td>...</td>\n",
       "      <td>...</td>\n",
       "      <td>...</td>\n",
       "      <td>...</td>\n",
       "      <td>...</td>\n",
       "      <td>...</td>\n",
       "      <td>...</td>\n",
       "    </tr>\n",
       "    <tr>\n",
       "      <th>1888</th>\n",
       "      <td>z969</td>\n",
       "      <td>Naftisol</td>\n",
       "      <td>Male</td>\n",
       "      <td>9</td>\n",
       "      <td>30</td>\n",
       "      <td>25</td>\n",
       "      <td>63.145652</td>\n",
       "      <td>2</td>\n",
       "    </tr>\n",
       "    <tr>\n",
       "      <th>1889</th>\n",
       "      <td>z969</td>\n",
       "      <td>Naftisol</td>\n",
       "      <td>Male</td>\n",
       "      <td>9</td>\n",
       "      <td>30</td>\n",
       "      <td>30</td>\n",
       "      <td>65.841013</td>\n",
       "      <td>3</td>\n",
       "    </tr>\n",
       "    <tr>\n",
       "      <th>1890</th>\n",
       "      <td>z969</td>\n",
       "      <td>Naftisol</td>\n",
       "      <td>Male</td>\n",
       "      <td>9</td>\n",
       "      <td>30</td>\n",
       "      <td>35</td>\n",
       "      <td>69.176246</td>\n",
       "      <td>4</td>\n",
       "    </tr>\n",
       "    <tr>\n",
       "      <th>1891</th>\n",
       "      <td>z969</td>\n",
       "      <td>Naftisol</td>\n",
       "      <td>Male</td>\n",
       "      <td>9</td>\n",
       "      <td>30</td>\n",
       "      <td>40</td>\n",
       "      <td>70.314904</td>\n",
       "      <td>4</td>\n",
       "    </tr>\n",
       "    <tr>\n",
       "      <th>1892</th>\n",
       "      <td>z969</td>\n",
       "      <td>Naftisol</td>\n",
       "      <td>Male</td>\n",
       "      <td>9</td>\n",
       "      <td>30</td>\n",
       "      <td>45</td>\n",
       "      <td>73.867845</td>\n",
       "      <td>4</td>\n",
       "    </tr>\n",
       "  </tbody>\n",
       "</table>\n",
       "<p>1883 rows × 8 columns</p>\n",
       "</div>"
      ],
      "text/plain": [
       "     Mouse ID Drug Regimen     Sex  Age_months  Weight (g)  Timepoint  \\\n",
       "10       s185    Capomulin  Female           3          17          0   \n",
       "11       s185    Capomulin  Female           3          17          5   \n",
       "12       s185    Capomulin  Female           3          17         10   \n",
       "13       s185    Capomulin  Female           3          17         15   \n",
       "14       s185    Capomulin  Female           3          17         20   \n",
       "...       ...          ...     ...         ...         ...        ...   \n",
       "1888     z969     Naftisol    Male           9          30         25   \n",
       "1889     z969     Naftisol    Male           9          30         30   \n",
       "1890     z969     Naftisol    Male           9          30         35   \n",
       "1891     z969     Naftisol    Male           9          30         40   \n",
       "1892     z969     Naftisol    Male           9          30         45   \n",
       "\n",
       "      Tumor Volume (mm3)  Metastatic Sites  \n",
       "10             45.000000                 0  \n",
       "11             43.878496                 0  \n",
       "12             37.614948                 0  \n",
       "13             38.177232                 0  \n",
       "14             36.866876                 0  \n",
       "...                  ...               ...  \n",
       "1888           63.145652                 2  \n",
       "1889           65.841013                 3  \n",
       "1890           69.176246                 4  \n",
       "1891           70.314904                 4  \n",
       "1892           73.867845                 4  \n",
       "\n",
       "[1883 rows x 8 columns]"
      ]
     },
     "execution_count": 5,
     "metadata": {},
     "output_type": "execute_result"
    }
   ],
   "source": [
    "#Show cleaned version of the dataframe\n",
    "display_markdown(\"## Pymaceuticals Data\",raw=True)\n",
    "mouse_data_cleaned"
   ]
  },
  {
   "cell_type": "code",
   "execution_count": 6,
   "metadata": {},
   "outputs": [
    {
     "data": {
      "text/markdown": [
       "## Tumor Volume (mm3) by Drug"
      ]
     },
     "metadata": {},
     "output_type": "display_data"
    },
    {
     "data": {
      "text/html": [
       "<div>\n",
       "<style scoped>\n",
       "    .dataframe tbody tr th:only-of-type {\n",
       "        vertical-align: middle;\n",
       "    }\n",
       "\n",
       "    .dataframe tbody tr th {\n",
       "        vertical-align: top;\n",
       "    }\n",
       "\n",
       "    .dataframe thead th {\n",
       "        text-align: right;\n",
       "    }\n",
       "</style>\n",
       "<table border=\"1\" class=\"dataframe\">\n",
       "  <thead>\n",
       "    <tr style=\"text-align: right;\">\n",
       "      <th></th>\n",
       "      <th>Mean</th>\n",
       "      <th>Median</th>\n",
       "      <th>Variance</th>\n",
       "      <th>Standard Deviation</th>\n",
       "      <th>SEM</th>\n",
       "    </tr>\n",
       "    <tr>\n",
       "      <th>Drug Regimen</th>\n",
       "      <th></th>\n",
       "      <th></th>\n",
       "      <th></th>\n",
       "      <th></th>\n",
       "      <th></th>\n",
       "    </tr>\n",
       "  </thead>\n",
       "  <tbody>\n",
       "    <tr>\n",
       "      <th>Capomulin</th>\n",
       "      <td>40.675741</td>\n",
       "      <td>41.557809</td>\n",
       "      <td>24.947764</td>\n",
       "      <td>4.994774</td>\n",
       "      <td>0.329346</td>\n",
       "    </tr>\n",
       "    <tr>\n",
       "      <th>Ceftamin</th>\n",
       "      <td>52.591172</td>\n",
       "      <td>51.776157</td>\n",
       "      <td>39.290177</td>\n",
       "      <td>6.268188</td>\n",
       "      <td>0.469821</td>\n",
       "    </tr>\n",
       "    <tr>\n",
       "      <th>Infubinol</th>\n",
       "      <td>52.884795</td>\n",
       "      <td>51.820584</td>\n",
       "      <td>43.128684</td>\n",
       "      <td>6.567243</td>\n",
       "      <td>0.492236</td>\n",
       "    </tr>\n",
       "    <tr>\n",
       "      <th>Ketapril</th>\n",
       "      <td>55.235638</td>\n",
       "      <td>53.698743</td>\n",
       "      <td>68.553577</td>\n",
       "      <td>8.279709</td>\n",
       "      <td>0.603860</td>\n",
       "    </tr>\n",
       "    <tr>\n",
       "      <th>Naftisol</th>\n",
       "      <td>54.331565</td>\n",
       "      <td>52.509285</td>\n",
       "      <td>66.173479</td>\n",
       "      <td>8.134708</td>\n",
       "      <td>0.596466</td>\n",
       "    </tr>\n",
       "    <tr>\n",
       "      <th>Placebo</th>\n",
       "      <td>54.033581</td>\n",
       "      <td>52.288934</td>\n",
       "      <td>61.168083</td>\n",
       "      <td>7.821003</td>\n",
       "      <td>0.581331</td>\n",
       "    </tr>\n",
       "    <tr>\n",
       "      <th>Propriva</th>\n",
       "      <td>52.322552</td>\n",
       "      <td>50.854632</td>\n",
       "      <td>42.351070</td>\n",
       "      <td>6.507770</td>\n",
       "      <td>0.512884</td>\n",
       "    </tr>\n",
       "    <tr>\n",
       "      <th>Ramicane</th>\n",
       "      <td>40.577199</td>\n",
       "      <td>41.020724</td>\n",
       "      <td>19.660760</td>\n",
       "      <td>4.434046</td>\n",
       "      <td>0.300311</td>\n",
       "    </tr>\n",
       "    <tr>\n",
       "      <th>Stelasyn</th>\n",
       "      <td>54.233149</td>\n",
       "      <td>52.431737</td>\n",
       "      <td>59.450562</td>\n",
       "      <td>7.710419</td>\n",
       "      <td>0.573111</td>\n",
       "    </tr>\n",
       "    <tr>\n",
       "      <th>Zoniferol</th>\n",
       "      <td>53.236507</td>\n",
       "      <td>51.818479</td>\n",
       "      <td>48.533355</td>\n",
       "      <td>6.966589</td>\n",
       "      <td>0.516398</td>\n",
       "    </tr>\n",
       "  </tbody>\n",
       "</table>\n",
       "</div>"
      ],
      "text/plain": [
       "                   Mean     Median   Variance  Standard Deviation       SEM\n",
       "Drug Regimen                                                               \n",
       "Capomulin     40.675741  41.557809  24.947764            4.994774  0.329346\n",
       "Ceftamin      52.591172  51.776157  39.290177            6.268188  0.469821\n",
       "Infubinol     52.884795  51.820584  43.128684            6.567243  0.492236\n",
       "Ketapril      55.235638  53.698743  68.553577            8.279709  0.603860\n",
       "Naftisol      54.331565  52.509285  66.173479            8.134708  0.596466\n",
       "Placebo       54.033581  52.288934  61.168083            7.821003  0.581331\n",
       "Propriva      52.322552  50.854632  42.351070            6.507770  0.512884\n",
       "Ramicane      40.577199  41.020724  19.660760            4.434046  0.300311\n",
       "Stelasyn      54.233149  52.431737  59.450562            7.710419  0.573111\n",
       "Zoniferol     53.236507  51.818479  48.533355            6.966589  0.516398"
      ]
     },
     "execution_count": 6,
     "metadata": {},
     "output_type": "execute_result"
    }
   ],
   "source": [
    "# Generate a summary statistics table of mean, median, variance, standard deviation, and SEM of the tumor volume for each regimen\n",
    "mouse_data_cleaned[\"Tumor Volume (mm3)\"].describe()\n",
    "tumor_volume_var=mouse_data_cleaned[\"Tumor Volume (mm3)\"].var()\n",
    "tumor_volume_sem=mouse_data_cleaned[\"Tumor Volume (mm3)\"].sem()\n",
    "tumor_volume_std=mouse_data_cleaned[\"Tumor Volume (mm3)\"].std()\n",
    "\n",
    "summary_table=pd.DataFrame({\"Mean\":[mouse_data_cleaned[\"Tumor Volume (mm3)\"].mean()],\n",
    "                            \"Median\":[mouse_data_cleaned[\"Tumor Volume (mm3)\"].median()],\n",
    "                            \"Variance\":[tumor_volume_var],\n",
    "                            \"Standard Deviation\":[tumor_volume_std],\n",
    "                            \"SEM\":[tumor_volume_sem],\n",
    "                           })\n",
    "\n",
    "summary_table.head()\n",
    "# Use groupby and summary statistical methods to calculate the following properties of each drug regimen: \n",
    "drug_df=mouse_data_cleaned[['Drug Regimen','Tumor Volume (mm3)']].groupby('Drug Regimen')\n",
    "drug_stats=pd.DataFrame()\n",
    "# mean, median, variance, standard deviation, and SEM of the tumor volume. \n",
    "drug_stats[\"Mean\"] = drug_df.mean()[\"Tumor Volume (mm3)\"]\n",
    "drug_stats[\"Median\"]=drug_df.median()[\"Tumor Volume (mm3)\"]\n",
    "drug_stats[\"Variance\"]=drug_df.var()[\"Tumor Volume (mm3)\"]\n",
    "drug_stats[\"Standard Deviation\"]=drug_df.std()[\"Tumor Volume (mm3)\"]\n",
    "drug_stats[\"SEM\"]=drug_df.sem()[\"Tumor Volume (mm3)\"]\n",
    "# Assemble the resulting series into a single summary dataframe.\n",
    "display_markdown(\"## Tumor Volume (mm3) by Drug\",raw=True)\n",
    "drug_stats\n",
    "\n",
    "\n",
    "\n"
   ]
  },
  {
   "cell_type": "code",
   "execution_count": 7,
   "metadata": {},
   "outputs": [
    {
     "data": {
      "text/markdown": [
       "## Tumor Volume (mm3) by Mouse ID"
      ]
     },
     "metadata": {},
     "output_type": "display_data"
    },
    {
     "data": {
      "text/html": [
       "<div>\n",
       "<style scoped>\n",
       "    .dataframe tbody tr th:only-of-type {\n",
       "        vertical-align: middle;\n",
       "    }\n",
       "\n",
       "    .dataframe tbody tr th {\n",
       "        vertical-align: top;\n",
       "    }\n",
       "\n",
       "    .dataframe thead tr th {\n",
       "        text-align: left;\n",
       "    }\n",
       "\n",
       "    .dataframe thead tr:last-of-type th {\n",
       "        text-align: right;\n",
       "    }\n",
       "</style>\n",
       "<table border=\"1\" class=\"dataframe\">\n",
       "  <thead>\n",
       "    <tr>\n",
       "      <th></th>\n",
       "      <th colspan=\"5\" halign=\"left\">Tumor Volume (mm3)</th>\n",
       "    </tr>\n",
       "    <tr>\n",
       "      <th></th>\n",
       "      <th>mean</th>\n",
       "      <th>median</th>\n",
       "      <th>var</th>\n",
       "      <th>std</th>\n",
       "      <th>sem</th>\n",
       "    </tr>\n",
       "    <tr>\n",
       "      <th>Mouse ID</th>\n",
       "      <th></th>\n",
       "      <th></th>\n",
       "      <th></th>\n",
       "      <th></th>\n",
       "      <th></th>\n",
       "    </tr>\n",
       "  </thead>\n",
       "  <tbody>\n",
       "    <tr>\n",
       "      <th>a203</th>\n",
       "      <td>56.312708</td>\n",
       "      <td>55.983272</td>\n",
       "      <td>50.407041</td>\n",
       "      <td>7.099792</td>\n",
       "      <td>2.245151</td>\n",
       "    </tr>\n",
       "    <tr>\n",
       "      <th>a251</th>\n",
       "      <td>55.237095</td>\n",
       "      <td>55.938620</td>\n",
       "      <td>51.740730</td>\n",
       "      <td>7.193103</td>\n",
       "      <td>2.274659</td>\n",
       "    </tr>\n",
       "    <tr>\n",
       "      <th>a262</th>\n",
       "      <td>58.611631</td>\n",
       "      <td>58.572588</td>\n",
       "      <td>84.759928</td>\n",
       "      <td>9.206515</td>\n",
       "      <td>2.911356</td>\n",
       "    </tr>\n",
       "    <tr>\n",
       "      <th>a275</th>\n",
       "      <td>52.770965</td>\n",
       "      <td>52.044750</td>\n",
       "      <td>36.322924</td>\n",
       "      <td>6.026850</td>\n",
       "      <td>1.905857</td>\n",
       "    </tr>\n",
       "    <tr>\n",
       "      <th>a366</th>\n",
       "      <td>54.639906</td>\n",
       "      <td>55.265582</td>\n",
       "      <td>38.415384</td>\n",
       "      <td>6.198015</td>\n",
       "      <td>2.342629</td>\n",
       "    </tr>\n",
       "    <tr>\n",
       "      <th>...</th>\n",
       "      <td>...</td>\n",
       "      <td>...</td>\n",
       "      <td>...</td>\n",
       "      <td>...</td>\n",
       "      <td>...</td>\n",
       "    </tr>\n",
       "    <tr>\n",
       "      <th>z435</th>\n",
       "      <td>46.942214</td>\n",
       "      <td>47.115980</td>\n",
       "      <td>3.464898</td>\n",
       "      <td>1.861424</td>\n",
       "      <td>1.074693</td>\n",
       "    </tr>\n",
       "    <tr>\n",
       "      <th>z578</th>\n",
       "      <td>38.411510</td>\n",
       "      <td>38.160380</td>\n",
       "      <td>17.969628</td>\n",
       "      <td>4.239060</td>\n",
       "      <td>1.340508</td>\n",
       "    </tr>\n",
       "    <tr>\n",
       "      <th>z581</th>\n",
       "      <td>53.979584</td>\n",
       "      <td>53.062175</td>\n",
       "      <td>29.827123</td>\n",
       "      <td>5.461421</td>\n",
       "      <td>1.727053</td>\n",
       "    </tr>\n",
       "    <tr>\n",
       "      <th>z795</th>\n",
       "      <td>54.880317</td>\n",
       "      <td>55.613879</td>\n",
       "      <td>53.416711</td>\n",
       "      <td>7.308674</td>\n",
       "      <td>2.311206</td>\n",
       "    </tr>\n",
       "    <tr>\n",
       "      <th>z969</th>\n",
       "      <td>60.194652</td>\n",
       "      <td>60.522215</td>\n",
       "      <td>94.626337</td>\n",
       "      <td>9.727607</td>\n",
       "      <td>3.076139</td>\n",
       "    </tr>\n",
       "  </tbody>\n",
       "</table>\n",
       "<p>248 rows × 5 columns</p>\n",
       "</div>"
      ],
      "text/plain": [
       "         Tumor Volume (mm3)                                          \n",
       "                       mean     median        var       std       sem\n",
       "Mouse ID                                                             \n",
       "a203              56.312708  55.983272  50.407041  7.099792  2.245151\n",
       "a251              55.237095  55.938620  51.740730  7.193103  2.274659\n",
       "a262              58.611631  58.572588  84.759928  9.206515  2.911356\n",
       "a275              52.770965  52.044750  36.322924  6.026850  1.905857\n",
       "a366              54.639906  55.265582  38.415384  6.198015  2.342629\n",
       "...                     ...        ...        ...       ...       ...\n",
       "z435              46.942214  47.115980   3.464898  1.861424  1.074693\n",
       "z578              38.411510  38.160380  17.969628  4.239060  1.340508\n",
       "z581              53.979584  53.062175  29.827123  5.461421  1.727053\n",
       "z795              54.880317  55.613879  53.416711  7.308674  2.311206\n",
       "z969              60.194652  60.522215  94.626337  9.727607  3.076139\n",
       "\n",
       "[248 rows x 5 columns]"
      ]
     },
     "execution_count": 7,
     "metadata": {},
     "output_type": "execute_result"
    }
   ],
   "source": [
    "# Generate a summary statistics table of mean, median, variance, standard deviation, and SEM of the tumor volume for each regimen\n",
    "mice_by_id=mouse_data_cleaned[[\"Mouse ID\", \"Tumor Volume (mm3)\"]].groupby(\"Mouse ID\")\n",
    "# Using the aggregation method, produce the same summary statistics in a single line\n",
    "display_markdown(\"## Tumor Volume (mm3) by Mouse ID\",raw=True)\n",
    "mice_by_id.agg(['mean','median','var','std','sem'])"
   ]
  },
  {
   "cell_type": "code",
   "execution_count": 8,
   "metadata": {},
   "outputs": [
    {
     "data": {
      "image/png": "[encoded data removed]",
      "text/plain": [
       "<Figure size 432x288 with 1 Axes>"
      ]
     },
     "metadata": {
      "needs_background": "light"
     },
     "output_type": "display_data"
    },
    {
     "data": {
      "image/png": "[encoded data removed]",
      "text/plain": [
       "<Figure size 432x288 with 1 Axes>"
      ]
     },
     "metadata": {
      "needs_background": "light"
     },
     "output_type": "display_data"
    }
   ],
   "source": [
    "# Generate a bar plot showing the total number of measurements taken on each drug regimen using pandas.\n",
    "drug_df.count()[\"Tumor Volume (mm3)\"].plot(kind=\"bar\", facecolor=\"red\")\n",
    "plt.ylabel(\"Number of Measurements Taken per Drug\")\n",
    "plt.title(\"Measurements per Drug\")\n",
    "plt.show()\n",
    "# Generate a bar plot showing the total number of measurements taken on each drug regimen using pyplot.\n",
    "plt.bar(drug_df.count().index, drug_df.count()[\"Tumor Volume (mm3)\"])\n",
    "plt.xlabel(\"Drug Regimen\")\n",
    "plt.ylabel(\"Number of Measurements Taken per Drug\")\n",
    "plt.title(\"Measurements per Drug\")\n",
    "plt.xticks(rotation=90)\n",
    "plt.show()\n"
   ]
  },
  {
   "cell_type": "code",
   "execution_count": 9,
   "metadata": {},
   "outputs": [
    {
     "data": {
      "image/png": "[encoded data removed]",
      "text/plain": [
       "<Figure size 432x288 with 1 Axes>"
      ]
     },
     "metadata": {},
     "output_type": "display_data"
    }
   ],
   "source": [
    "# Generate a pie plot showing the distribution of female versus male mice using pandas\n",
    "mice_by_sex=mouse_data_cleaned[[\"Sex\",\"Tumor Volume (mm3)\"]].groupby(\"Sex\").count()\n",
    "mice_by_sex.plot.pie(y=\"Tumor Volume (mm3)\", autopct='%1.1f%%')\n",
    "plt.show()"
   ]
  },
  {
   "cell_type": "code",
   "execution_count": 10,
   "metadata": {},
   "outputs": [
    {
     "data": {
      "image/png": "[encoded data removed]",
      "text/plain": [
       "<Figure size 432x288 with 1 Axes>"
      ]
     },
     "metadata": {},
     "output_type": "display_data"
    }
   ],
   "source": [
    "# Generate a pie plot showing the distribution of female versus male mice using pyplot\n",
    "sizes=mice_by_sex[\"Tumor Volume (mm3)\"]\n",
    "labels=[\"Male\",\"Female\"]\n",
    "plt.pie(sizes,labels=labels, autopct='%1.1f%%')\n",
    "plt.legend(loc=\"best\")\n",
    "plt.show()"
   ]
  },
  {
   "cell_type": "code",
   "execution_count": 11,
   "metadata": {},
   "outputs": [
    {
     "data": {
      "text/html": [
       "<div>\n",
       "<style scoped>\n",
       "    .dataframe tbody tr th:only-of-type {\n",
       "        vertical-align: middle;\n",
       "    }\n",
       "\n",
       "    .dataframe tbody tr th {\n",
       "        vertical-align: top;\n",
       "    }\n",
       "\n",
       "    .dataframe thead th {\n",
       "        text-align: right;\n",
       "    }\n",
       "</style>\n",
       "<table border=\"1\" class=\"dataframe\">\n",
       "  <thead>\n",
       "    <tr style=\"text-align: right;\">\n",
       "      <th></th>\n",
       "      <th>Mouse ID</th>\n",
       "      <th>Drug Regimen</th>\n",
       "      <th>Sex</th>\n",
       "      <th>Age_months</th>\n",
       "      <th>Weight (g)</th>\n",
       "      <th>Timepoint</th>\n",
       "      <th>Tumor Volume (mm3)</th>\n",
       "      <th>Metastatic Sites</th>\n",
       "    </tr>\n",
       "  </thead>\n",
       "  <tbody>\n",
       "    <tr>\n",
       "      <th>19</th>\n",
       "      <td>s185</td>\n",
       "      <td>Capomulin</td>\n",
       "      <td>Female</td>\n",
       "      <td>3</td>\n",
       "      <td>17</td>\n",
       "      <td>45</td>\n",
       "      <td>23.343598</td>\n",
       "      <td>1</td>\n",
       "    </tr>\n",
       "    <tr>\n",
       "      <th>29</th>\n",
       "      <td>x401</td>\n",
       "      <td>Capomulin</td>\n",
       "      <td>Female</td>\n",
       "      <td>16</td>\n",
       "      <td>15</td>\n",
       "      <td>45</td>\n",
       "      <td>28.484033</td>\n",
       "      <td>0</td>\n",
       "    </tr>\n",
       "    <tr>\n",
       "      <th>39</th>\n",
       "      <td>m601</td>\n",
       "      <td>Capomulin</td>\n",
       "      <td>Male</td>\n",
       "      <td>22</td>\n",
       "      <td>17</td>\n",
       "      <td>45</td>\n",
       "      <td>28.430964</td>\n",
       "      <td>1</td>\n",
       "    </tr>\n",
       "    <tr>\n",
       "      <th>49</th>\n",
       "      <td>g791</td>\n",
       "      <td>Ramicane</td>\n",
       "      <td>Male</td>\n",
       "      <td>11</td>\n",
       "      <td>16</td>\n",
       "      <td>45</td>\n",
       "      <td>29.128472</td>\n",
       "      <td>1</td>\n",
       "    </tr>\n",
       "    <tr>\n",
       "      <th>59</th>\n",
       "      <td>s508</td>\n",
       "      <td>Ramicane</td>\n",
       "      <td>Male</td>\n",
       "      <td>1</td>\n",
       "      <td>17</td>\n",
       "      <td>45</td>\n",
       "      <td>30.276232</td>\n",
       "      <td>0</td>\n",
       "    </tr>\n",
       "    <tr>\n",
       "      <th>...</th>\n",
       "      <td>...</td>\n",
       "      <td>...</td>\n",
       "      <td>...</td>\n",
       "      <td>...</td>\n",
       "      <td>...</td>\n",
       "      <td>...</td>\n",
       "      <td>...</td>\n",
       "      <td>...</td>\n",
       "    </tr>\n",
       "    <tr>\n",
       "      <th>1859</th>\n",
       "      <td>z314</td>\n",
       "      <td>Stelasyn</td>\n",
       "      <td>Female</td>\n",
       "      <td>21</td>\n",
       "      <td>28</td>\n",
       "      <td>5</td>\n",
       "      <td>45.934712</td>\n",
       "      <td>0</td>\n",
       "    </tr>\n",
       "    <tr>\n",
       "      <th>1862</th>\n",
       "      <td>z435</td>\n",
       "      <td>Propriva</td>\n",
       "      <td>Female</td>\n",
       "      <td>12</td>\n",
       "      <td>26</td>\n",
       "      <td>10</td>\n",
       "      <td>48.710661</td>\n",
       "      <td>0</td>\n",
       "    </tr>\n",
       "    <tr>\n",
       "      <th>1872</th>\n",
       "      <td>z581</td>\n",
       "      <td>Infubinol</td>\n",
       "      <td>Female</td>\n",
       "      <td>24</td>\n",
       "      <td>25</td>\n",
       "      <td>45</td>\n",
       "      <td>62.754451</td>\n",
       "      <td>3</td>\n",
       "    </tr>\n",
       "    <tr>\n",
       "      <th>1882</th>\n",
       "      <td>z795</td>\n",
       "      <td>Naftisol</td>\n",
       "      <td>Female</td>\n",
       "      <td>13</td>\n",
       "      <td>29</td>\n",
       "      <td>45</td>\n",
       "      <td>65.741070</td>\n",
       "      <td>3</td>\n",
       "    </tr>\n",
       "    <tr>\n",
       "      <th>1892</th>\n",
       "      <td>z969</td>\n",
       "      <td>Naftisol</td>\n",
       "      <td>Male</td>\n",
       "      <td>9</td>\n",
       "      <td>30</td>\n",
       "      <td>45</td>\n",
       "      <td>73.867845</td>\n",
       "      <td>4</td>\n",
       "    </tr>\n",
       "  </tbody>\n",
       "</table>\n",
       "<p>248 rows × 8 columns</p>\n",
       "</div>"
      ],
      "text/plain": [
       "     Mouse ID Drug Regimen     Sex  Age_months  Weight (g)  Timepoint  \\\n",
       "19       s185    Capomulin  Female           3          17         45   \n",
       "29       x401    Capomulin  Female          16          15         45   \n",
       "39       m601    Capomulin    Male          22          17         45   \n",
       "49       g791     Ramicane    Male          11          16         45   \n",
       "59       s508     Ramicane    Male           1          17         45   \n",
       "...       ...          ...     ...         ...         ...        ...   \n",
       "1859     z314     Stelasyn  Female          21          28          5   \n",
       "1862     z435     Propriva  Female          12          26         10   \n",
       "1872     z581    Infubinol  Female          24          25         45   \n",
       "1882     z795     Naftisol  Female          13          29         45   \n",
       "1892     z969     Naftisol    Male           9          30         45   \n",
       "\n",
       "      Tumor Volume (mm3)  Metastatic Sites  \n",
       "19             23.343598                 1  \n",
       "29             28.484033                 0  \n",
       "39             28.430964                 1  \n",
       "49             29.128472                 1  \n",
       "59             30.276232                 0  \n",
       "...                  ...               ...  \n",
       "1859           45.934712                 0  \n",
       "1862           48.710661                 0  \n",
       "1872           62.754451                 3  \n",
       "1882           65.741070                 3  \n",
       "1892           73.867845                 4  \n",
       "\n",
       "[248 rows x 8 columns]"
      ]
     },
     "execution_count": 11,
     "metadata": {},
     "output_type": "execute_result"
    }
   ],
   "source": [
    "# Calculate the final tumor volume of each mouse across four of the treatment regimens:  \n",
    "# Capomulin, Ramicane, Infubinol, and Ceftamin\n",
    "\n",
    "# Start by getting the last (greatest) timepoint for each mouse\n",
    "last_timepoint = mouse_data_cleaned.groupby(\"Mouse ID\").max()[\"Timepoint\"]\n",
    "\n",
    "mouse_data_finaltime = pd.DataFrame()\n",
    "mouse_data_finaltime[\"Last Timepoint\"]=mouse_data_cleaned[\"Mouse ID\"].groupby(last_timepoint)\n",
    "mouse_data_finaltime[\"Last Timepoint\"]=last_timepoint\n",
    "mouse_data_finaltime\n",
    "\n",
    "# Merge this group df with the original dataframe to get the tumor volume at the last timepoint\n",
    "index=mouse_data_cleaned.groupby(['Mouse ID'])['Timepoint'].transform(max) == mouse_data_cleaned['Timepoint']\n",
    "mouse_data_new=mouse_data_cleaned[index]\n",
    "mouse_data_new\n"
   ]
  },
  {
   "cell_type": "code",
   "execution_count": 12,
   "metadata": {},
   "outputs": [],
   "source": [
    "# Put treatments into a list for for loop (and later for plot labels)\n",
    "treatments = [\"Capomulin\", \"Ramicane\", \"Infubinol\", \"Ceftamin\"]\n",
    "\n",
    "# Create empty list to fill with tumor vol data (for plotting)\n",
    "tumor_vol = []\n",
    "\n",
    "# Calculate the IQR and quantitatively determine if there are any potential outliers.\n",
    "\n",
    "# Locate the rows which contain mice on each drug and get the tumor volumes\n",
    "capomulin_data = mouse_data_new.loc[mouse_data_new[\"Drug Regimen\"]==\"Capomulin\"]\n",
    "ramicane_data = mouse_data_new.loc[mouse_data_new[\"Drug Regimen\"]==\"Ramicane\"]\n",
    "infubinol_data = mouse_data_new.loc[mouse_data_new[\"Drug Regimen\"]==\"Infubinol\"]\n",
    "ceftamin_data = mouse_data_new.loc[mouse_data_new[\"Drug Regimen\"]==\"Ceftamin\"]\n"
   ]
  },
  {
   "cell_type": "code",
   "execution_count": 13,
   "metadata": {},
   "outputs": [
    {
     "name": "stdout",
     "output_type": "stream",
     "text": [
      "The lower quartile of tumor volumes is: 32.37735684\n",
      "The upper quartile of tumor volumes is: 40.1592203\n",
      "The interquartile range of tumor volumes is: 7.781863460000004\n",
      "The the median of tumor volumes is: 38.125164399999996 \n",
      "Values below 20.70456164999999 could be outliers.\n",
      "Values above 51.83201549 could be outliers.\n"
     ]
    },
    {
     "data": {
      "image/png": "[encoded data removed]",
      "text/plain": [
       "<Figure size 432x288 with 1 Axes>"
      ]
     },
     "metadata": {
      "needs_background": "light"
     },
     "output_type": "display_data"
    },
    {
     "name": "stdout",
     "output_type": "stream",
     "text": [
      "The lower quartile of tumor volumes is: 32.6240088275\n",
      "The upper quartile of tumor volumes is: 40.6611829325\n",
      "The interquartile range of tumor volumes is: 8.037174104999998\n",
      "The the median of tumor volumes is: 36.893651309999996 \n",
      "Values below 20.56824767 could be outliers.\n",
      "Values above 52.71694409 could be outliers.\n"
     ]
    },
    {
     "data": {
      "image/png": "[encoded data removed]",
      "text/plain": [
       "<Figure size 432x288 with 1 Axes>"
      ]
     },
     "metadata": {
      "needs_background": "light"
     },
     "output_type": "display_data"
    },
    {
     "name": "stdout",
     "output_type": "stream",
     "text": [
      "The lower quartile of tumor volumes is: 54.04860769\n",
      "The upper quartile of tumor volumes is: 65.52574285\n",
      "The interquartile range of tumor volumes is: 11.477135160000003\n",
      "The the median of tumor volumes is: 60.16518046 \n",
      "Values below 36.83290494999999 could be outliers.\n",
      "Values above 82.74144559000001 could be outliers.\n"
     ]
    },
    {
     "data": {
      "image/png": "[encoded data removed]",
      "text/plain": [
       "<Figure size 432x288 with 1 Axes>"
      ]
     },
     "metadata": {
      "needs_background": "light"
     },
     "output_type": "display_data"
    },
    {
     "name": "stdout",
     "output_type": "stream",
     "text": [
      "The lower quartile of tumor volumes is: 48.72207785\n",
      "The upper quartile of tumor volumes is: 64.29983003\n",
      "The interquartile range of tumor volumes is: 15.577752179999997\n",
      "The the median of tumor volumes is: 59.85195552 \n",
      "Values below 25.355449580000002 could be outliers.\n",
      "Values above 87.66645829999999 could be outliers.\n"
     ]
    },
    {
     "data": {
      "image/png": "[encoded data removed]",
      "text/plain": [
       "<Figure size 432x288 with 1 Axes>"
      ]
     },
     "metadata": {
      "needs_background": "light"
     },
     "output_type": "display_data"
    }
   ],
   "source": [
    "#Locate the rows which contain mice on each drug and get the tumor volumes\n",
    "for treatment in treatments:\n",
    "    treatment_data = mouse_data_new.loc[mouse_data_new[\"Drug Regimen\"]==treatment]\n",
    "    treatment_tvs = treatment_data[\"Tumor Volume (mm3)\"]\n",
    "    #Calculate IQR and outliers \n",
    "    quartiles = treatment_tvs.quantile([.25,.5,.75])\n",
    "    lowerq = quartiles[0.25]\n",
    "    upperq = quartiles[0.75]\n",
    "    iqr = upperq-lowerq\n",
    "\n",
    "    print(f\"The lower quartile of tumor volumes is: {lowerq}\")\n",
    "    print(f\"The upper quartile of tumor volumes is: {upperq}\")\n",
    "    print(f\"The interquartile range of tumor volumes is: {iqr}\")\n",
    "    print(f\"The the median of tumor volumes is: {quartiles[0.5]} \")\n",
    "\n",
    "    lower_bound = lowerq - (1.5*iqr)\n",
    "    upper_bound = upperq + (1.5*iqr)\n",
    "    print(f\"Values below {lower_bound} could be outliers.\")\n",
    "    print(f\"Values above {upper_bound} could be outliers.\")\n",
    "\n",
    "    #Show box plot\n",
    "    fig1, ax1 = plt.subplots()\n",
    "    ax1.set_title(\"Final Tumor Volumes of Mice on \"+treatment)\n",
    "    ax1.set_ylabel('Tumor Volume of Mouse)')\n",
    "    ax1.boxplot(treatment_tvs)\n",
    "    plt.show()\n",
    "\n",
    "\n"
   ]
  },
  {
   "cell_type": "code",
   "execution_count": 14,
   "metadata": {},
   "outputs": [],
   "source": [
    "#Creating a dataframe just focusing on the 4 drugs requested: Capomulin, Ramicane, Ceftamin, and Infubinol\n",
    "mouse_data_new\n",
    "\n",
    "mouse_data_4 = mouse_data_new.loc[(mouse_data_new[\"Drug Regimen\"]==\"Capomulin\")|\n",
    "                                   (mouse_data_new[\"Drug Regimen\"]==\"Ramicane\")|\n",
    "                                   (mouse_data_new[\"Drug Regimen\"]==\"Ceftamin\")|\n",
    "                                   (mouse_data_new[\"Drug Regimen\"]==\"Infubinol\")]\n"
   ]
  },
  {
   "cell_type": "code",
   "execution_count": 15,
   "metadata": {},
   "outputs": [
    {
     "data": {
      "image/png": "[encoded data removed]",
      "text/plain": [
       "<Figure size 720x720 with 1 Axes>"
      ]
     },
     "metadata": {
      "needs_background": "light"
     },
     "output_type": "display_data"
    }
   ],
   "source": [
    "#Creating boxplots of tumor volume of mice by drug for the four drugs requested, \n",
    "#this time placing all the boxplots side by side\n",
    "\n",
    "mouse_data_4.boxplot(by=\"Drug Regimen\", column = \"Tumor Volume (mm3)\", figsize=(10,10))\n",
    "plt.title(\"Final Tumor Volume (mm3) of Mice by Drug\")\n",
    "plt.suptitle(\"\")\n",
    "plt.ylabel(\"tumor volume (mm3)\")\n",
    "plt.show()"
   ]
  },
  {
   "cell_type": "code",
   "execution_count": 21,
   "metadata": {},
   "outputs": [
    {
     "data": {
      "image/png": "[encoded data removed]",
      "text/plain": [
       "<Figure size 432x288 with 1 Axes>"
      ]
     },
     "metadata": {
      "needs_background": "light"
     },
     "output_type": "display_data"
    },
    {
     "name": "stdout",
     "output_type": "stream",
     "text": [
      "Data is being shown for mouse #r944.\n"
     ]
    }
   ],
   "source": [
    "# Generate a line plot of tumor volume vs. time point for a mouse treated with Capomulin\n",
    "\n",
    "one_mouse = mouse_data_cleaned.loc[mouse_data_cleaned[\"Mouse ID\"]==\"s185\"]\n",
    "#one_mouse\n",
    "capomulin_alltimepoints = mouse_data_cleaned.loc[mouse_data_cleaned[\"Drug Regimen\"]==\"Capomulin\"]\n",
    "mouse_ids = capomulin_alltimepoints[\"Mouse ID\"].unique()\n",
    "single_random_mouse = mouse_data_cleaned.loc[mouse_data_cleaned[\"Mouse ID\"]==random.choice(mouse_ids)]\n",
    "random_mouse_id = single_random_mouse.iloc[1,0]\n",
    "\n",
    "\n",
    "single_random_mouse_tp = one_mouse[\"Timepoint\"]\n",
    "single_random_mouse_tv = one_mouse[\"Tumor Volume (mm3)\"]\n",
    "\n",
    "\n",
    "single_random_mouse_line = plt.plot(single_random_mouse_tp, single_random_mouse_tv, \n",
    "                                    color=\"blue\", label=\"Tumor Volume of Mouse\")\n",
    "plt.title(\"Tumor Volume for a Mouse on Capomulin\")\n",
    "plt.xlabel(\"Timepoint\")\n",
    "plt.ylabel(\"Tumor Volume (mm3)\")\n",
    "plt.legend(loc=\"best\")\n",
    "plt.show()\n",
    "print(f\"Data is being shown for mouse #{random_mouse_id}.\")\n"
   ]
  },
  {
   "cell_type": "code",
   "execution_count": 17,
   "metadata": {},
   "outputs": [
    {
     "data": {
      "image/png": "[encoded data removed]",
      "text/plain": [
       "<Figure size 432x288 with 1 Axes>"
      ]
     },
     "metadata": {
      "needs_background": "light"
     },
     "output_type": "display_data"
    }
   ],
   "source": [
    "# Generate a scatter plot of average tumor volume vs. mouse weight for the Capomulin regimen\n",
    "mouse_avg_tv = mouse_data_cleaned.loc[mouse_data_cleaned[\"Drug Regimen\"]==\"Capomulin\"]\n",
    "mouse_avg_tv\n",
    "\n",
    "avg_tv= mouse_avg_tv.groupby([\"Mouse ID\"])[\"Tumor Volume (mm3)\"].mean()\n",
    "avg_tv\n",
    "\n",
    "x = mouse_avg_tv.groupby([\"Mouse ID\"])[\"Weight (g)\"].mean()\n",
    "x\n",
    "\n",
    "plt.scatter(x, avg_tv, marker=\"o\", facecolors=\"red\", edgecolors=\"black\",\n",
    "            s=x, alpha=0.75)\n",
    "plt.title(\"Average Tumor Volume vs Mouse Weight\")\n",
    "plt.xlabel(\"Weight (g)\")\n",
    "plt.ylabel(\"Tumor Volume (mm3)\")\n",
    "plt.show()\n",
    "\n"
   ]
  },
  {
   "cell_type": "code",
   "execution_count": 18,
   "metadata": {},
   "outputs": [
    {
     "name": "stdout",
     "output_type": "stream",
     "text": [
      "The correlation between both factors is 0.84\n"
     ]
    }
   ],
   "source": [
    "# Calculate the correlation coefficient and linear regression model \n",
    "# for mouse weight and average tumor volume for the Capomulin regimen\n",
    "\n",
    "#correlation coefficient\n",
    "correlation = st.pearsonr(x,avg_tv)\n",
    "print(f\"The correlation between both factors is {round(correlation[0],2)}\")"
   ]
  },
  {
   "cell_type": "code",
   "execution_count": 19,
   "metadata": {},
   "outputs": [
    {
     "name": "stdout",
     "output_type": "stream",
     "text": [
      "The r-squared is: 0.7088568047708717\n",
      "y = 0.95x + 21.55\n"
     ]
    },
    {
     "data": {
      "image/png": "[encoded data removed]",
      "text/plain": [
       "<Figure size 432x288 with 1 Axes>"
      ]
     },
     "metadata": {
      "needs_background": "light"
     },
     "output_type": "display_data"
    }
   ],
   "source": [
    "#linear regression module\n",
    "(slope, intercept, rvalue, pvalue, stderr) = linregress(x, avg_tv)\n",
    "regress_values = x * slope + intercept\n",
    "line_eq = \"y = \" + str(round(slope,2)) + \"x + \" + str(round(intercept,2))\n",
    "plt.scatter(x,avg_tv)\n",
    "plt.plot(x,regress_values,\"r-\")\n",
    "plt.annotate(line_eq,(6,10),fontsize=15,color=\"red\")\n",
    "plt.xlabel('Weight (g)')\n",
    "plt.ylabel('Tumor Volume (mm3)')\n",
    "plt.title(\"Tumor Volume vs Mouse Weight\")\n",
    "print(f\"The r-squared is: {rvalue**2}\")\n",
    "print(line_eq)\n",
    "plt.show()"
   ]
  },
  {
   "cell_type": "markdown",
   "metadata": {},
   "source": [
    "## Analysis:\n",
    "\n",
    "Of the four drug regimens that were asked to be examined, Capomulin and Ramicane were the most effective. These drugs were far more effective than Infubinol or Ceftamin. However, one cannot definitively conclude if Capomulin or Ramicane is a more effective drug compared to the other. Capomulin and Ramicane both have very close median tumor volumes at the final timepoint of the experiment(38 and 36 mm3 respectively). The upper and lower quartiles for tumor volume at the final timepoint are both 32 and 40 mm3 for both drugs as well. Therefore, both drugs produced almost the same results, and it cannot really be argued that one is more effective than the other. However both are still far more effective than Infubinol or Ceftamin, as both of these drugs at median tumor volumes of around 60 mm3. \n",
    "\n",
    "Another trend I noticed from the data is that there is a fairly strong correlation between weight of the mice and tumor volume. You can see from the scatter plot  that the data closely resembles that of a linear relationship. In addition to the appearance of the plot, there are also statistical values that back this claim up as well. One of these values is the correlation coefficient of 0.84. The correlation coefficient measures the strength of the relationship between two variables, and the maximum value for this measurement is 1. Therefore, a value of 0.84 would suggest a fairly strong correlation. Another similar value that backs this up is the r-squared value, which represents how close the relationship between variables match the regression line. In this case, the value is 0.71, which shows that the relationship between the variables is strong. Lastly, the slope of the regression line also indicates a strong relationship between the variables as well. The slope of the regression line is 0.95, which is pretty close to a slope of one, which would indicate a perfect linear relationship. \n",
    "\n",
    "Lastly, I would be willing to claim that Capomulin was overall a very effective drug for many mice in the experiment in terms of reducing tumor volume. In the graph that shows the tumor volume decrease over time for a single mouse on Capomulin, I frequently have noticed that there is a steep decline in tumor volume over the time. I ran the graph many times for many random mice in the table. Almost all of them depict the same line graph. A steep line with a negative slope high in magnitude. For almost all the random simulations run for various mice, the graph almost every times shows a decrease in tumor volume of about 50%. Very often, these mice are starting with a tumor volume of about 45 at the first time point and finishing with a tumor volume of about 20-25. Therefore, I am willing to firmly back the claim that Capomulin is a very effective drug in regards to decreasing tumor volume in mice. Hopefully, we will see the same trend when applied to humans. \n"
   ]
  },
  {
   "cell_type": "code",
   "execution_count": null,
   "metadata": {},
   "outputs": [],
   "source": []
  }
 ],
 "metadata": {
  "kernelspec": {
   "display_name": "Python 3",
   "language": "python",
   "name": "python3"
  },
  "language_info": {
   "codemirror_mode": {
    "name": "ipython",
    "version": 3
   },
   "file_extension": ".py",
   "mimetype": "text/x-python",
   "name": "python",
   "nbconvert_exporter": "python",
   "pygments_lexer": "ipython3",
   "version": "3.9.1"
  }
 },
 "nbformat": 4,
 "nbformat_minor": 4
}
